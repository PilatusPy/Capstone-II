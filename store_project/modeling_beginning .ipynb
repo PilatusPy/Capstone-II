{
 "cells": [
  {
   "cell_type": "code",
   "execution_count": null,
   "id": "e9e7dc6b",
   "metadata": {},
   "outputs": [],
   "source": [
    "#modeling\n"
   ]
  },
  {
   "cell_type": "code",
   "execution_count": null,
   "id": "650e40f3",
   "metadata": {},
   "outputs": [],
   "source": [
    "import pandas as pd\n",
    "import matplotlib.pyplot as plt\n",
    "from sklearn.linear_model import LinearRegression\n",
    "from sklearn.model_selection import train_test_split\n",
    "from sklearn.metrics import mean_squared_error, r2_score\n",
    "import numpy as np\n",
    "from statsmodels.tsa.arima.model import ARIMA\n"
   ]
  },
  {
   "cell_type": "code",
   "execution_count": null,
   "id": "5f88f3a7",
   "metadata": {},
   "outputs": [],
   "source": [
    "df = pd.read_csv(\"data_no_outliers.csv\")\n",
    "df.info()"
   ]
  },
  {
   "cell_type": "code",
   "execution_count": null,
   "id": "b96cbe74",
   "metadata": {},
   "outputs": [],
   "source": [
    "#let's build time based DF's\n",
    "df['Txn_date'] = pd.to_datetime(df['Txn_date'])\n",
    "df['Year'] = df['Txn_date'].dt.year\n",
    "df['Month'] = df['Txn_date'].dt.month\n",
    "df['Day'] = df['Txn_date'].dt.day\n",
    "#day of the week and weekends\n",
    "df['DayOfWeek'] = df['Txn_date'].dt.dayofweek\n",
    "df['Weekend'] = df['DayOfWeek'].apply(lambda x: 1 if x >= 5 else 0)"
   ]
  },
  {
   "cell_type": "code",
   "execution_count": null,
   "id": "c5032c0c",
   "metadata": {},
   "outputs": [],
   "source": [
    "#train and test\n",
    "X_train, X_test, y_train, y_test = train_test_split(df[['Year', 'Month', 'Day', 'DayOfWeek', 'Weekend']], df['Total_Amt'], test_size=0.2, random_state=0)\n"
   ]
  },
  {
   "cell_type": "code",
   "execution_count": null,
   "id": "323ff7b9",
   "metadata": {},
   "outputs": [],
   "source": [
    "model = LinearRegression()"
   ]
  },
  {
   "cell_type": "code",
   "execution_count": null,
   "id": "cfd2a847",
   "metadata": {},
   "outputs": [],
   "source": [
    "model.fit(X_train, y_train)"
   ]
  },
  {
   "cell_type": "code",
   "execution_count": null,
   "id": "6e3923b8",
   "metadata": {},
   "outputs": [],
   "source": [
    "predictions = model.predict(X_test)"
   ]
  },
  {
   "cell_type": "code",
   "execution_count": null,
   "id": "89f7d8bc",
   "metadata": {},
   "outputs": [],
   "source": [
    "rmse = np.sqrt(mean_squared_error(y_test, predictions))\n",
    "print('RMSE: ', rmse)"
   ]
  },
  {
   "cell_type": "code",
   "execution_count": null,
   "id": "0383dc7c",
   "metadata": {},
   "outputs": [],
   "source": [
    "r2 = r2_score(y_test, predictions)\n",
    "print('R2: ', r2)\n"
   ]
  },
  {
   "cell_type": "code",
   "execution_count": null,
   "id": "88dd7797",
   "metadata": {},
   "outputs": [],
   "source": [
    "#negative R2 is unacceptable "
   ]
  },
  {
   "cell_type": "code",
   "execution_count": null,
   "id": "72415850",
   "metadata": {},
   "outputs": [],
   "source": [
    "df_ts = df.resample('M', on='Txn_date')['Total_Amt'].sum()\n"
   ]
  },
  {
   "cell_type": "code",
   "execution_count": null,
   "id": "635718e2",
   "metadata": {},
   "outputs": [],
   "source": [
    "model = ARIMA(df_ts, order=(5,1,0))\n",
    "model_fit = model.fit(disp=0)\n",
    "\n",
    "plt.figure(figsize=(15,10))\n",
    "model_fit.plot_predict(dynamic=False)\n",
    "plt.show()"
   ]
  },
  {
   "cell_type": "code",
   "execution_count": null,
   "id": "bf88b3ca",
   "metadata": {},
   "outputs": [],
   "source": [
    "model = ARIMA(df_ts['Total_Amt'], order=(5,1,0)) \n",
    "model_fit = model.fit(disp=0)\n",
    "\n",
    "\n",
    "fig, ax = plt.subplots()\n",
    "ax.plot(df_ts['Total_Amt'], label='original')\n",
    "ax.plot(model_fit.predict(), label='forecast')\n",
    "plt.legend()\n",
    "plt.show()"
   ]
  },
  {
   "cell_type": "code",
   "execution_count": null,
   "id": "9d625dc6",
   "metadata": {},
   "outputs": [],
   "source": [
    "model_fit = model.fit()\n"
   ]
  },
  {
   "cell_type": "code",
   "execution_count": null,
   "id": "0dd9936d",
   "metadata": {},
   "outputs": [],
   "source": [
    "print(model_fit.summary())\n"
   ]
  },
  {
   "cell_type": "code",
   "execution_count": null,
   "id": "c1ae9938",
   "metadata": {},
   "outputs": [],
   "source": [
    "plt.figure(figsize=(15,10))\n",
    "model_fit.plot_predict(dynamic=False)\n",
    "plt.show()\n"
   ]
  },
  {
   "cell_type": "code",
   "execution_count": null,
   "id": "82e3974f",
   "metadata": {},
   "outputs": [],
   "source": []
  },
  {
   "cell_type": "code",
   "execution_count": null,
   "id": "34b2612c",
   "metadata": {},
   "outputs": [],
   "source": []
  }
 ],
 "metadata": {
  "kernelspec": {
   "display_name": "Python 3 (ipykernel)",
   "language": "python",
   "name": "python3"
  },
  "language_info": {
   "codemirror_mode": {
    "name": "ipython",
    "version": 3
   },
   "file_extension": ".py",
   "mimetype": "text/x-python",
   "name": "python",
   "nbconvert_exporter": "python",
   "pygments_lexer": "ipython3",
   "version": "3.10.9"
  }
 },
 "nbformat": 4,
 "nbformat_minor": 5
}
