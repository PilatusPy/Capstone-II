{
 "cells": [
  {
   "cell_type": "code",
   "execution_count": 2,
   "id": "574c7e56",
   "metadata": {},
   "outputs": [],
   "source": [
    "import pandas as pd"
   ]
  },
  {
   "cell_type": "code",
   "execution_count": 8,
   "id": "f671884e",
   "metadata": {},
   "outputs": [],
   "source": [
    "excel = pd.ExcelFile('SuperMarket_Transaction_Data.xlsx')"
   ]
  },
  {
   "cell_type": "code",
   "execution_count": 9,
   "id": "a272ca3e",
   "metadata": {},
   "outputs": [],
   "source": [
    "df = excel.parse(excel.sheet_names[0])"
   ]
  },
  {
   "cell_type": "code",
   "execution_count": 10,
   "id": "edde7b27",
   "metadata": {},
   "outputs": [
    {
     "data": {
      "text/html": [
       "<div>\n",
       "<style scoped>\n",
       "    .dataframe tbody tr th:only-of-type {\n",
       "        vertical-align: middle;\n",
       "    }\n",
       "\n",
       "    .dataframe tbody tr th {\n",
       "        vertical-align: top;\n",
       "    }\n",
       "\n",
       "    .dataframe thead th {\n",
       "        text-align: right;\n",
       "    }\n",
       "</style>\n",
       "<table border=\"1\" class=\"dataframe\">\n",
       "  <thead>\n",
       "    <tr style=\"text-align: right;\">\n",
       "      <th></th>\n",
       "      <th>Invoice_id</th>\n",
       "      <th>Cust_id</th>\n",
       "      <th>Txn_date</th>\n",
       "      <th>Product_Sub_category</th>\n",
       "      <th>Product_Category</th>\n",
       "      <th>Qty</th>\n",
       "      <th>Rate</th>\n",
       "      <th>Tax</th>\n",
       "      <th>Total_Amt</th>\n",
       "      <th>Store_type</th>\n",
       "    </tr>\n",
       "  </thead>\n",
       "  <tbody>\n",
       "    <tr>\n",
       "      <th>0</th>\n",
       "      <td>25890929042</td>\n",
       "      <td>266783</td>\n",
       "      <td>2016-09-23</td>\n",
       "      <td>Women</td>\n",
       "      <td>Footwear</td>\n",
       "      <td>4</td>\n",
       "      <td>1321</td>\n",
       "      <td>554.820</td>\n",
       "      <td>5838.820</td>\n",
       "      <td>e-Shop</td>\n",
       "    </tr>\n",
       "    <tr>\n",
       "      <th>1</th>\n",
       "      <td>25890929042</td>\n",
       "      <td>266783</td>\n",
       "      <td>2016-09-24</td>\n",
       "      <td>Women</td>\n",
       "      <td>Footwear</td>\n",
       "      <td>-4</td>\n",
       "      <td>-1321</td>\n",
       "      <td>554.820</td>\n",
       "      <td>-5838.820</td>\n",
       "      <td>e-Shop</td>\n",
       "    </tr>\n",
       "    <tr>\n",
       "      <th>2</th>\n",
       "      <td>98477711300</td>\n",
       "      <td>266783</td>\n",
       "      <td>2017-10-21</td>\n",
       "      <td>Mens</td>\n",
       "      <td>Clothing</td>\n",
       "      <td>3</td>\n",
       "      <td>93</td>\n",
       "      <td>29.295</td>\n",
       "      <td>308.295</td>\n",
       "      <td>TeleShop</td>\n",
       "    </tr>\n",
       "    <tr>\n",
       "      <th>3</th>\n",
       "      <td>8410316370</td>\n",
       "      <td>266783</td>\n",
       "      <td>2018-02-20</td>\n",
       "      <td>Mens</td>\n",
       "      <td>Clothing</td>\n",
       "      <td>1</td>\n",
       "      <td>869</td>\n",
       "      <td>91.245</td>\n",
       "      <td>960.245</td>\n",
       "      <td>e-Shop</td>\n",
       "    </tr>\n",
       "    <tr>\n",
       "      <th>4</th>\n",
       "      <td>16999552161</td>\n",
       "      <td>266783</td>\n",
       "      <td>2018-09-02</td>\n",
       "      <td>Non-fiction</td>\n",
       "      <td>Books</td>\n",
       "      <td>2</td>\n",
       "      <td>835</td>\n",
       "      <td>175.350</td>\n",
       "      <td>1845.350</td>\n",
       "      <td>e-Shop</td>\n",
       "    </tr>\n",
       "  </tbody>\n",
       "</table>\n",
       "</div>"
      ],
      "text/plain": [
       "    Invoice_id  Cust_id   Txn_date Product_Sub_category Product_Category  Qty  \\\n",
       "0  25890929042   266783 2016-09-23                Women         Footwear    4   \n",
       "1  25890929042   266783 2016-09-24                Women         Footwear   -4   \n",
       "2  98477711300   266783 2017-10-21                 Mens         Clothing    3   \n",
       "3   8410316370   266783 2018-02-20                 Mens         Clothing    1   \n",
       "4  16999552161   266783 2018-09-02          Non-fiction            Books    2   \n",
       "\n",
       "   Rate      Tax  Total_Amt Store_type  \n",
       "0  1321  554.820   5838.820     e-Shop  \n",
       "1 -1321  554.820  -5838.820     e-Shop  \n",
       "2    93   29.295    308.295   TeleShop  \n",
       "3   869   91.245    960.245     e-Shop  \n",
       "4   835  175.350   1845.350     e-Shop  "
      ]
     },
     "execution_count": 10,
     "metadata": {},
     "output_type": "execute_result"
    }
   ],
   "source": [
    "df.head()"
   ]
  },
  {
   "cell_type": "code",
   "execution_count": 11,
   "id": "c301fb9b",
   "metadata": {},
   "outputs": [
    {
     "name": "stdout",
     "output_type": "stream",
     "text": [
      "<class 'pandas.core.frame.DataFrame'>\n",
      "RangeIndex: 21988 entries, 0 to 21987\n",
      "Data columns (total 10 columns):\n",
      " #   Column                Non-Null Count  Dtype         \n",
      "---  ------                --------------  -----         \n",
      " 0   Invoice_id            21988 non-null  int64         \n",
      " 1   Cust_id               21988 non-null  int64         \n",
      " 2   Txn_date              21988 non-null  datetime64[ns]\n",
      " 3   Product_Sub_category  21988 non-null  object        \n",
      " 4   Product_Category      21988 non-null  object        \n",
      " 5   Qty                   21988 non-null  int64         \n",
      " 6   Rate                  21988 non-null  int64         \n",
      " 7   Tax                   21988 non-null  float64       \n",
      " 8   Total_Amt             21988 non-null  float64       \n",
      " 9   Store_type            21988 non-null  object        \n",
      "dtypes: datetime64[ns](1), float64(2), int64(4), object(3)\n",
      "memory usage: 1.7+ MB\n"
     ]
    }
   ],
   "source": [
    "df.info()"
   ]
  },
  {
   "cell_type": "code",
   "execution_count": 14,
   "id": "14fbf1ad",
   "metadata": {},
   "outputs": [
    {
     "name": "stdout",
     "output_type": "stream",
     "text": [
      "13\n"
     ]
    }
   ],
   "source": [
    "#duplicates\n",
    "duplicates = df.duplicated().sum()\n",
    "print(duplicates)"
   ]
  },
  {
   "cell_type": "code",
   "execution_count": 15,
   "id": "6fb746d2",
   "metadata": {},
   "outputs": [],
   "source": [
    "#drop duplicates\n",
    "df= df.drop_duplicates()"
   ]
  },
  {
   "cell_type": "code",
   "execution_count": 16,
   "id": "64f24b44",
   "metadata": {},
   "outputs": [
    {
     "name": "stdout",
     "output_type": "stream",
     "text": [
      "0\n"
     ]
    }
   ],
   "source": [
    "#check\n",
    "duplicates = df.duplicated().sum()\n",
    "print(duplicates)"
   ]
  },
  {
   "cell_type": "code",
   "execution_count": 18,
   "id": "60770942",
   "metadata": {},
   "outputs": [],
   "source": [
    "#separating returns from DF\n",
    "df_returns = df[df['Qty'] < 0]\n",
    "df = df[df['Qty']>=0]\n"
   ]
  },
  {
   "cell_type": "raw",
   "id": "5ff5f887",
   "metadata": {},
   "source": []
  }
 ],
 "metadata": {
  "kernelspec": {
   "display_name": "Python 3 (ipykernel)",
   "language": "python",
   "name": "python3"
  },
  "language_info": {
   "codemirror_mode": {
    "name": "ipython",
    "version": 3
   },
   "file_extension": ".py",
   "mimetype": "text/x-python",
   "name": "python",
   "nbconvert_exporter": "python",
   "pygments_lexer": "ipython3",
   "version": "3.10.9"
  }
 },
 "nbformat": 4,
 "nbformat_minor": 5
}
