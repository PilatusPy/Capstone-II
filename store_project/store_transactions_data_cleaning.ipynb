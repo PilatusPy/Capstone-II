{
 "cells": [
  {
   "cell_type": "code",
   "execution_count": 1,
   "id": "2d71f3b1",
   "metadata": {},
   "outputs": [],
   "source": [
    "import pandas as pd"
   ]
  },
  {
   "cell_type": "code",
   "execution_count": 2,
   "id": "511c90d5",
   "metadata": {},
   "outputs": [],
   "source": [
    "excel = pd.ExcelFile('SuperMarket_Transaction_Data.xlsx')"
   ]
  },
  {
   "cell_type": "code",
   "execution_count": 3,
   "id": "b5f5452a",
   "metadata": {},
   "outputs": [],
   "source": [
    "df = excel.parse(excel.sheet_names[0])"
   ]
  },
  {
   "cell_type": "code",
   "execution_count": 4,
   "id": "672c9fa4",
   "metadata": {},
   "outputs": [
    {
     "data": {
      "text/html": [
       "<div>\n",
       "<style scoped>\n",
       "    .dataframe tbody tr th:only-of-type {\n",
       "        vertical-align: middle;\n",
       "    }\n",
       "\n",
       "    .dataframe tbody tr th {\n",
       "        vertical-align: top;\n",
       "    }\n",
       "\n",
       "    .dataframe thead th {\n",
       "        text-align: right;\n",
       "    }\n",
       "</style>\n",
       "<table border=\"1\" class=\"dataframe\">\n",
       "  <thead>\n",
       "    <tr style=\"text-align: right;\">\n",
       "      <th></th>\n",
       "      <th>Invoice_id</th>\n",
       "      <th>Cust_id</th>\n",
       "      <th>Txn_date</th>\n",
       "      <th>Product_Sub_category</th>\n",
       "      <th>Product_Category</th>\n",
       "      <th>Qty</th>\n",
       "      <th>Rate</th>\n",
       "      <th>Tax</th>\n",
       "      <th>Total_Amt</th>\n",
       "      <th>Store_type</th>\n",
       "    </tr>\n",
       "  </thead>\n",
       "  <tbody>\n",
       "    <tr>\n",
       "      <th>0</th>\n",
       "      <td>25890929042</td>\n",
       "      <td>266783</td>\n",
       "      <td>2016-09-23</td>\n",
       "      <td>Women</td>\n",
       "      <td>Footwear</td>\n",
       "      <td>4</td>\n",
       "      <td>1321</td>\n",
       "      <td>554.820</td>\n",
       "      <td>5838.820</td>\n",
       "      <td>e-Shop</td>\n",
       "    </tr>\n",
       "    <tr>\n",
       "      <th>1</th>\n",
       "      <td>25890929042</td>\n",
       "      <td>266783</td>\n",
       "      <td>2016-09-24</td>\n",
       "      <td>Women</td>\n",
       "      <td>Footwear</td>\n",
       "      <td>-4</td>\n",
       "      <td>-1321</td>\n",
       "      <td>554.820</td>\n",
       "      <td>-5838.820</td>\n",
       "      <td>e-Shop</td>\n",
       "    </tr>\n",
       "    <tr>\n",
       "      <th>2</th>\n",
       "      <td>98477711300</td>\n",
       "      <td>266783</td>\n",
       "      <td>2017-10-21</td>\n",
       "      <td>Mens</td>\n",
       "      <td>Clothing</td>\n",
       "      <td>3</td>\n",
       "      <td>93</td>\n",
       "      <td>29.295</td>\n",
       "      <td>308.295</td>\n",
       "      <td>TeleShop</td>\n",
       "    </tr>\n",
       "    <tr>\n",
       "      <th>3</th>\n",
       "      <td>8410316370</td>\n",
       "      <td>266783</td>\n",
       "      <td>2018-02-20</td>\n",
       "      <td>Mens</td>\n",
       "      <td>Clothing</td>\n",
       "      <td>1</td>\n",
       "      <td>869</td>\n",
       "      <td>91.245</td>\n",
       "      <td>960.245</td>\n",
       "      <td>e-Shop</td>\n",
       "    </tr>\n",
       "    <tr>\n",
       "      <th>4</th>\n",
       "      <td>16999552161</td>\n",
       "      <td>266783</td>\n",
       "      <td>2018-09-02</td>\n",
       "      <td>Non-fiction</td>\n",
       "      <td>Books</td>\n",
       "      <td>2</td>\n",
       "      <td>835</td>\n",
       "      <td>175.350</td>\n",
       "      <td>1845.350</td>\n",
       "      <td>e-Shop</td>\n",
       "    </tr>\n",
       "  </tbody>\n",
       "</table>\n",
       "</div>"
      ],
      "text/plain": [
       "    Invoice_id  Cust_id   Txn_date Product_Sub_category Product_Category  Qty  \\\n",
       "0  25890929042   266783 2016-09-23                Women         Footwear    4   \n",
       "1  25890929042   266783 2016-09-24                Women         Footwear   -4   \n",
       "2  98477711300   266783 2017-10-21                 Mens         Clothing    3   \n",
       "3   8410316370   266783 2018-02-20                 Mens         Clothing    1   \n",
       "4  16999552161   266783 2018-09-02          Non-fiction            Books    2   \n",
       "\n",
       "   Rate      Tax  Total_Amt Store_type  \n",
       "0  1321  554.820   5838.820     e-Shop  \n",
       "1 -1321  554.820  -5838.820     e-Shop  \n",
       "2    93   29.295    308.295   TeleShop  \n",
       "3   869   91.245    960.245     e-Shop  \n",
       "4   835  175.350   1845.350     e-Shop  "
      ]
     },
     "execution_count": 4,
     "metadata": {},
     "output_type": "execute_result"
    }
   ],
   "source": [
    "df.head()"
   ]
  },
  {
   "cell_type": "code",
   "execution_count": 5,
   "id": "952cdef4",
   "metadata": {},
   "outputs": [
    {
     "name": "stdout",
     "output_type": "stream",
     "text": [
      "<class 'pandas.core.frame.DataFrame'>\n",
      "RangeIndex: 21988 entries, 0 to 21987\n",
      "Data columns (total 10 columns):\n",
      " #   Column                Non-Null Count  Dtype         \n",
      "---  ------                --------------  -----         \n",
      " 0   Invoice_id            21988 non-null  int64         \n",
      " 1   Cust_id               21988 non-null  int64         \n",
      " 2   Txn_date              21988 non-null  datetime64[ns]\n",
      " 3   Product_Sub_category  21988 non-null  object        \n",
      " 4   Product_Category      21988 non-null  object        \n",
      " 5   Qty                   21988 non-null  int64         \n",
      " 6   Rate                  21988 non-null  int64         \n",
      " 7   Tax                   21988 non-null  float64       \n",
      " 8   Total_Amt             21988 non-null  float64       \n",
      " 9   Store_type            21988 non-null  object        \n",
      "dtypes: datetime64[ns](1), float64(2), int64(4), object(3)\n",
      "memory usage: 1.7+ MB\n"
     ]
    }
   ],
   "source": [
    "df.info()"
   ]
  },
  {
   "cell_type": "code",
   "execution_count": 6,
   "id": "94654a35",
   "metadata": {},
   "outputs": [
    {
     "name": "stdout",
     "output_type": "stream",
     "text": [
      "13\n"
     ]
    }
   ],
   "source": [
    "#duplicates\n",
    "duplicates = df.duplicated().sum()\n",
    "print(duplicates)"
   ]
  },
  {
   "cell_type": "code",
   "execution_count": 7,
   "id": "c0bddcf9",
   "metadata": {},
   "outputs": [],
   "source": [
    "#drop duplicates\n",
    "df= df.drop_duplicates()"
   ]
  },
  {
   "cell_type": "code",
   "execution_count": 8,
   "id": "e8fd3331",
   "metadata": {},
   "outputs": [
    {
     "name": "stdout",
     "output_type": "stream",
     "text": [
      "0\n"
     ]
    }
   ],
   "source": [
    "#check\n",
    "duplicates = df.duplicated().sum()\n",
    "print(duplicates)"
   ]
  },
  {
   "cell_type": "code",
   "execution_count": 9,
   "id": "af458031",
   "metadata": {},
   "outputs": [
    {
     "name": "stdout",
     "output_type": "stream",
     "text": [
      "<class 'pandas.core.frame.DataFrame'>\n",
      "Int64Index: 21975 entries, 0 to 21987\n",
      "Data columns (total 10 columns):\n",
      " #   Column                Non-Null Count  Dtype         \n",
      "---  ------                --------------  -----         \n",
      " 0   Invoice_id            21975 non-null  int64         \n",
      " 1   Cust_id               21975 non-null  int64         \n",
      " 2   Txn_date              21975 non-null  datetime64[ns]\n",
      " 3   Product_Sub_category  21975 non-null  object        \n",
      " 4   Product_Category      21975 non-null  object        \n",
      " 5   Qty                   21975 non-null  int64         \n",
      " 6   Rate                  21975 non-null  int64         \n",
      " 7   Tax                   21975 non-null  float64       \n",
      " 8   Total_Amt             21975 non-null  float64       \n",
      " 9   Store_type            21975 non-null  object        \n",
      "dtypes: datetime64[ns](1), float64(2), int64(4), object(3)\n",
      "memory usage: 1.8+ MB\n"
     ]
    }
   ],
   "source": [
    "#checking info\n",
    "df.info()"
   ]
  },
  {
   "cell_type": "code",
   "execution_count": 10,
   "id": "c23fcc62",
   "metadata": {},
   "outputs": [],
   "source": [
    "#separating returns from DF\n",
    "df_returns = df[df['Qty'] < 0]\n",
    "\n"
   ]
  },
  {
   "cell_type": "code",
   "execution_count": 11,
   "id": "3675923e",
   "metadata": {},
   "outputs": [
    {
     "name": "stdout",
     "output_type": "stream",
     "text": [
      "<class 'pandas.core.frame.DataFrame'>\n",
      "Int64Index: 2054 entries, 1 to 21978\n",
      "Data columns (total 10 columns):\n",
      " #   Column                Non-Null Count  Dtype         \n",
      "---  ------                --------------  -----         \n",
      " 0   Invoice_id            2054 non-null   int64         \n",
      " 1   Cust_id               2054 non-null   int64         \n",
      " 2   Txn_date              2054 non-null   datetime64[ns]\n",
      " 3   Product_Sub_category  2054 non-null   object        \n",
      " 4   Product_Category      2054 non-null   object        \n",
      " 5   Qty                   2054 non-null   int64         \n",
      " 6   Rate                  2054 non-null   int64         \n",
      " 7   Tax                   2054 non-null   float64       \n",
      " 8   Total_Amt             2054 non-null   float64       \n",
      " 9   Store_type            2054 non-null   object        \n",
      "dtypes: datetime64[ns](1), float64(2), int64(4), object(3)\n",
      "memory usage: 176.5+ KB\n"
     ]
    }
   ],
   "source": [
    "#?df_returns info\n",
    "df_returns.info()"
   ]
  },
  {
   "cell_type": "code",
   "execution_count": 12,
   "id": "ca61169e",
   "metadata": {},
   "outputs": [],
   "source": [
    "#DF with no returns\n",
    "df = df[df['Qty']>=0]"
   ]
  },
  {
   "cell_type": "code",
   "execution_count": 13,
   "id": "3fc29b27",
   "metadata": {},
   "outputs": [
    {
     "name": "stdout",
     "output_type": "stream",
     "text": [
      "<class 'pandas.core.frame.DataFrame'>\n",
      "Int64Index: 19921 entries, 0 to 21987\n",
      "Data columns (total 10 columns):\n",
      " #   Column                Non-Null Count  Dtype         \n",
      "---  ------                --------------  -----         \n",
      " 0   Invoice_id            19921 non-null  int64         \n",
      " 1   Cust_id               19921 non-null  int64         \n",
      " 2   Txn_date              19921 non-null  datetime64[ns]\n",
      " 3   Product_Sub_category  19921 non-null  object        \n",
      " 4   Product_Category      19921 non-null  object        \n",
      " 5   Qty                   19921 non-null  int64         \n",
      " 6   Rate                  19921 non-null  int64         \n",
      " 7   Tax                   19921 non-null  float64       \n",
      " 8   Total_Amt             19921 non-null  float64       \n",
      " 9   Store_type            19921 non-null  object        \n",
      "dtypes: datetime64[ns](1), float64(2), int64(4), object(3)\n",
      "memory usage: 1.7+ MB\n"
     ]
    }
   ],
   "source": [
    "df.info()"
   ]
  },
  {
   "cell_type": "code",
   "execution_count": 14,
   "id": "8aa36ba6",
   "metadata": {},
   "outputs": [
    {
     "data": {
      "text/html": [
       "<div>\n",
       "<style scoped>\n",
       "    .dataframe tbody tr th:only-of-type {\n",
       "        vertical-align: middle;\n",
       "    }\n",
       "\n",
       "    .dataframe tbody tr th {\n",
       "        vertical-align: top;\n",
       "    }\n",
       "\n",
       "    .dataframe thead th {\n",
       "        text-align: right;\n",
       "    }\n",
       "</style>\n",
       "<table border=\"1\" class=\"dataframe\">\n",
       "  <thead>\n",
       "    <tr style=\"text-align: right;\">\n",
       "      <th></th>\n",
       "      <th>Qty</th>\n",
       "      <th>Rate</th>\n",
       "      <th>Tax</th>\n",
       "      <th>Total_Amt</th>\n",
       "    </tr>\n",
       "  </thead>\n",
       "  <tbody>\n",
       "    <tr>\n",
       "      <th>count</th>\n",
       "      <td>19921.000000</td>\n",
       "      <td>19921.000000</td>\n",
       "      <td>19921.000000</td>\n",
       "      <td>19921.000000</td>\n",
       "    </tr>\n",
       "    <tr>\n",
       "      <th>mean</th>\n",
       "      <td>3.003162</td>\n",
       "      <td>785.949250</td>\n",
       "      <td>247.664935</td>\n",
       "      <td>2606.378604</td>\n",
       "    </tr>\n",
       "    <tr>\n",
       "      <th>std</th>\n",
       "      <td>1.420921</td>\n",
       "      <td>415.824713</td>\n",
       "      <td>186.458986</td>\n",
       "      <td>1962.258855</td>\n",
       "    </tr>\n",
       "    <tr>\n",
       "      <th>min</th>\n",
       "      <td>1.000000</td>\n",
       "      <td>70.000000</td>\n",
       "      <td>7.350000</td>\n",
       "      <td>77.350000</td>\n",
       "    </tr>\n",
       "    <tr>\n",
       "      <th>25%</th>\n",
       "      <td>2.000000</td>\n",
       "      <td>425.000000</td>\n",
       "      <td>97.860000</td>\n",
       "      <td>1029.860000</td>\n",
       "    </tr>\n",
       "    <tr>\n",
       "      <th>50%</th>\n",
       "      <td>3.000000</td>\n",
       "      <td>788.000000</td>\n",
       "      <td>198.240000</td>\n",
       "      <td>2086.240000</td>\n",
       "    </tr>\n",
       "    <tr>\n",
       "      <th>75%</th>\n",
       "      <td>4.000000</td>\n",
       "      <td>1148.000000</td>\n",
       "      <td>363.300000</td>\n",
       "      <td>3823.300000</td>\n",
       "    </tr>\n",
       "    <tr>\n",
       "      <th>max</th>\n",
       "      <td>5.000000</td>\n",
       "      <td>1500.000000</td>\n",
       "      <td>787.500000</td>\n",
       "      <td>8287.500000</td>\n",
       "    </tr>\n",
       "  </tbody>\n",
       "</table>\n",
       "</div>"
      ],
      "text/plain": [
       "                Qty          Rate           Tax     Total_Amt\n",
       "count  19921.000000  19921.000000  19921.000000  19921.000000\n",
       "mean       3.003162    785.949250    247.664935   2606.378604\n",
       "std        1.420921    415.824713    186.458986   1962.258855\n",
       "min        1.000000     70.000000      7.350000     77.350000\n",
       "25%        2.000000    425.000000     97.860000   1029.860000\n",
       "50%        3.000000    788.000000    198.240000   2086.240000\n",
       "75%        4.000000   1148.000000    363.300000   3823.300000\n",
       "max        5.000000   1500.000000    787.500000   8287.500000"
      ]
     },
     "execution_count": 14,
     "metadata": {},
     "output_type": "execute_result"
    }
   ],
   "source": [
    "#stat for numeric columns\n",
    "df[['Qty', 'Rate', 'Tax', 'Total_Amt']].describe()"
   ]
  },
  {
   "cell_type": "code",
   "execution_count": 15,
   "id": "fd65b1ba",
   "metadata": {},
   "outputs": [
    {
     "name": "stdout",
     "output_type": "stream",
     "text": [
      "['Women' 'Mens' 'Non-fiction' 'Mobiles' 'Fiction' 'Kids'\n",
      " 'Home Decoratives' 'Academic' 'Audio and video' 'Personal Appliances'\n",
      " 'Computers' 'DIY' 'Electric appliances' 'Furnishing' 'Cameras'\n",
      " 'Bedding and Towels']\n",
      "['Footwear' 'Clothing' 'Books' 'Electronics' 'Home and kitchen' 'Bags']\n",
      "['e-Shop' 'TeleShop' 'Brick and Mortar']\n"
     ]
    }
   ],
   "source": [
    "#unique for category types\n",
    "print(df['Product_Sub_category'].unique())\n",
    "print(df['Product_Category'].unique())\n",
    "print(df['Store_type'].unique())\n"
   ]
  },
  {
   "cell_type": "code",
   "execution_count": 16,
   "id": "e6179e42",
   "metadata": {},
   "outputs": [
    {
     "data": {
      "text/plain": [
       "Invoice_id              0\n",
       "Cust_id                 0\n",
       "Txn_date                0\n",
       "Product_Sub_category    0\n",
       "Product_Category        0\n",
       "Qty                     0\n",
       "Rate                    0\n",
       "Tax                     0\n",
       "Total_Amt               0\n",
       "Store_type              0\n",
       "dtype: int64"
      ]
     },
     "execution_count": 16,
     "metadata": {},
     "output_type": "execute_result"
    }
   ],
   "source": [
    "#NA values\n",
    "df.isna().sum()"
   ]
  },
  {
   "cell_type": "code",
   "execution_count": 17,
   "id": "e1f04e34",
   "metadata": {},
   "outputs": [],
   "source": [
    "#saving clean data\n",
    "df.to_csv('clean_data.csv', index=False)"
   ]
  },
  {
   "cell_type": "code",
   "execution_count": 19,
   "id": "350f93ad",
   "metadata": {},
   "outputs": [],
   "source": [
    "#saving clean data\n",
    "df_returns.to_csv('clean_data_returns.csv', index=False)"
   ]
  },
  {
   "cell_type": "code",
   "execution_count": null,
   "id": "01f9b3bf",
   "metadata": {},
   "outputs": [],
   "source": []
  },
  {
   "cell_type": "code",
   "execution_count": null,
   "id": "86b32c7b",
   "metadata": {},
   "outputs": [],
   "source": []
  }
 ],
 "metadata": {
  "kernelspec": {
   "display_name": "Python 3 (ipykernel)",
   "language": "python",
   "name": "python3"
  },
  "language_info": {
   "codemirror_mode": {
    "name": "ipython",
    "version": 3
   },
   "file_extension": ".py",
   "mimetype": "text/x-python",
   "name": "python",
   "nbconvert_exporter": "python",
   "pygments_lexer": "ipython3",
   "version": "3.10.9"
  }
 },
 "nbformat": 4,
 "nbformat_minor": 5
}
