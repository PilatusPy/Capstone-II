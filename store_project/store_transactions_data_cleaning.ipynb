{
 "cells": [
  {
   "cell_type": "code",
   "execution_count": 2,
   "id": "e295e702",
   "metadata": {},
   "outputs": [],
   "source": [
    "import pandas as pd"
   ]
  },
  {
   "cell_type": "code",
   "execution_count": 3,
   "id": "370fd2da",
   "metadata": {},
   "outputs": [],
   "source": [
    "df = pd.read_csv('SuperMarket_Transaction_Data.csv')"
   ]
  },
  {
   "cell_type": "code",
   "execution_count": 5,
   "id": "12a2aaa1",
   "metadata": {},
   "outputs": [
    {
     "data": {
      "text/html": [
       "<div>\n",
       "<style scoped>\n",
       "    .dataframe tbody tr th:only-of-type {\n",
       "        vertical-align: middle;\n",
       "    }\n",
       "\n",
       "    .dataframe tbody tr th {\n",
       "        vertical-align: top;\n",
       "    }\n",
       "\n",
       "    .dataframe thead th {\n",
       "        text-align: right;\n",
       "    }\n",
       "</style>\n",
       "<table border=\"1\" class=\"dataframe\">\n",
       "  <thead>\n",
       "    <tr style=\"text-align: right;\">\n",
       "      <th></th>\n",
       "      <th></th>\n",
       "      <th></th>\n",
       "      <th></th>\n",
       "      <th></th>\n",
       "      <th></th>\n",
       "      <th></th>\n",
       "      <th></th>\n",
       "      <th></th>\n",
       "      <th></th>\n",
       "      <th>Table 1</th>\n",
       "    </tr>\n",
       "  </thead>\n",
       "  <tbody>\n",
       "    <tr>\n",
       "      <th>Invoice_id</th>\n",
       "      <th>Cust_id</th>\n",
       "      <th>Txn_date</th>\n",
       "      <th>Product_Sub_category</th>\n",
       "      <th>Product_Category</th>\n",
       "      <th>Qty</th>\n",
       "      <th>Rate</th>\n",
       "      <th>Tax</th>\n",
       "      <th>Total_Amt</th>\n",
       "      <th>Store_type</th>\n",
       "      <td>NaN</td>\n",
       "    </tr>\n",
       "    <tr>\n",
       "      <th rowspan=\"2\" valign=\"top\">25890929042</th>\n",
       "      <th rowspan=\"2\" valign=\"top\">266783</th>\n",
       "      <th>9/23/16</th>\n",
       "      <th>Women</th>\n",
       "      <th>Footwear</th>\n",
       "      <th>4</th>\n",
       "      <th>1321</th>\n",
       "      <th>554.82</th>\n",
       "      <th>5838.82</th>\n",
       "      <th>e-Shop</th>\n",
       "      <td>NaN</td>\n",
       "    </tr>\n",
       "    <tr>\n",
       "      <th>9/24/16</th>\n",
       "      <th>Women</th>\n",
       "      <th>Footwear</th>\n",
       "      <th>-4</th>\n",
       "      <th>-1321</th>\n",
       "      <th>554.82</th>\n",
       "      <th>-5838.82</th>\n",
       "      <th>e-Shop</th>\n",
       "      <td>NaN</td>\n",
       "    </tr>\n",
       "    <tr>\n",
       "      <th>98477711300</th>\n",
       "      <th>266783</th>\n",
       "      <th>10/21/17</th>\n",
       "      <th>Mens</th>\n",
       "      <th>Clothing</th>\n",
       "      <th>3</th>\n",
       "      <th>93</th>\n",
       "      <th>29.295</th>\n",
       "      <th>308.295</th>\n",
       "      <th>TeleShop</th>\n",
       "      <td>NaN</td>\n",
       "    </tr>\n",
       "    <tr>\n",
       "      <th>8410316370</th>\n",
       "      <th>266783</th>\n",
       "      <th>2/20/18</th>\n",
       "      <th>Mens</th>\n",
       "      <th>Clothing</th>\n",
       "      <th>1</th>\n",
       "      <th>869</th>\n",
       "      <th>91.245</th>\n",
       "      <th>960.245</th>\n",
       "      <th>e-Shop</th>\n",
       "      <td>NaN</td>\n",
       "    </tr>\n",
       "  </tbody>\n",
       "</table>\n",
       "</div>"
      ],
      "text/plain": [
       "                                                                                                          Table 1\n",
       "Invoice_id  Cust_id Txn_date Product_Sub_category Product_Category Qty Rate  Tax    Total_Amt Store_type      NaN\n",
       "25890929042 266783  9/23/16  Women                Footwear         4   1321  554.82 5838.82   e-Shop          NaN\n",
       "                    9/24/16  Women                Footwear         -4  -1321 554.82 -5838.82  e-Shop          NaN\n",
       "98477711300 266783  10/21/17 Mens                 Clothing         3   93    29.295 308.295   TeleShop        NaN\n",
       "8410316370  266783  2/20/18  Mens                 Clothing         1   869   91.245 960.245   e-Shop          NaN"
      ]
     },
     "execution_count": 5,
     "metadata": {},
     "output_type": "execute_result"
    }
   ],
   "source": [
    "df.head()"
   ]
  },
  {
   "cell_type": "code",
   "execution_count": 6,
   "id": "5465eddc",
   "metadata": {},
   "outputs": [
    {
     "name": "stdout",
     "output_type": "stream",
     "text": [
      "<class 'pandas.core.frame.DataFrame'>\n",
      "MultiIndex: 21989 entries, ('Invoice_id', 'Cust_id', 'Txn_date', 'Product_Sub_category', 'Product_Category', 'Qty', 'Rate', 'Tax', 'Total_Amt', 'Store_type') to ('24113900219', '275265', '3/4/18', 'Furnishing', 'Home and kitchen', '3', '719', '226.485', '2383.485', 'Brick and Mortar')\n",
      "Data columns (total 1 columns):\n",
      " #   Column   Non-Null Count  Dtype  \n",
      "---  ------   --------------  -----  \n",
      " 0   Table 1  0 non-null      float64\n",
      "dtypes: float64(1)\n",
      "memory usage: 1.8+ MB\n"
     ]
    }
   ],
   "source": [
    "df.info()"
   ]
  },
  {
   "cell_type": "code",
   "execution_count": 7,
   "id": "5f4e2ac4",
   "metadata": {},
   "outputs": [],
   "source": [
    "df = pd.read_csv('SuperMarket_Transaction_Data.csv', sep='\\t')\n"
   ]
  },
  {
   "cell_type": "code",
   "execution_count": null,
   "id": "2a10c1ef",
   "metadata": {},
   "outputs": [],
   "source": []
  }
 ],
 "metadata": {
  "kernelspec": {
   "display_name": "Python 3 (ipykernel)",
   "language": "python",
   "name": "python3"
  },
  "language_info": {
   "codemirror_mode": {
    "name": "ipython",
    "version": 3
   },
   "file_extension": ".py",
   "mimetype": "text/x-python",
   "name": "python",
   "nbconvert_exporter": "python",
   "pygments_lexer": "ipython3",
   "version": "3.10.9"
  }
 },
 "nbformat": 4,
 "nbformat_minor": 5
}
